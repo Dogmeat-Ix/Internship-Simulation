{
 "cells": [
  {
   "cell_type": "code",
   "execution_count": 40,
   "metadata": {},
   "outputs": [],
   "source": [
    "import pinocchio as pin\n",
    "from pinocchio.utils import *\n",
    "\n",
    "import example_robot_data as robex\n",
    "import numpy as np\n",
    "from numpy.linalg import inv, pinv, eig, norm, svd, det\n",
    "\n",
    "import vizutils\n",
    "import random\n",
    "import math\n"
   ]
  },
  {
   "cell_type": "code",
   "execution_count": 12,
   "metadata": {},
   "outputs": [
    {
     "name": "stdout",
     "output_type": "stream",
     "text": [
      "You can open the visualizer by visiting the following URL:\n",
      "http://127.0.0.1:7000/static/\n"
     ]
    }
   ],
   "source": [
    "robot = robex.loadSolo()\n",
    "\n",
    "#Viewer = pin.visualize.GepettoVisualizer\n",
    "Viewer = pin.visualize.MeshcatVisualizer\n",
    "\n",
    "viz = Viewer(robot.model, robot.collision_model, robot.visual_model)\n",
    "viz.initViewer(loadModel=True)\n"
   ]
  },
  {
   "cell_type": "code",
   "execution_count": 13,
   "metadata": {
    "scrolled": true
   },
   "outputs": [
    {
     "data": {
      "text/html": [
       "\n",
       "<div style=\"height: 400px; width: 600px; overflow-x: auto; overflow-y: hidden; resize: both\">\n",
       "<iframe src=\"http://127.0.0.1:7000/static/\" style=\"width: 100%; height: 100%; border: none\"></iframe>\n",
       "</div>\n"
      ],
      "text/plain": [
       "<IPython.core.display.HTML object>"
      ]
     },
     "execution_count": 13,
     "metadata": {},
     "output_type": "execute_result"
    }
   ],
   "source": [
    "hasattr(viz.viewer, 'jupyter_cell') and viz.viewer.jupyter_cell()\n"
   ]
  },
  {
   "cell_type": "code",
   "execution_count": 27,
   "metadata": {},
   "outputs": [],
   "source": [
    "viz.display(robot.q0)\n",
    "\n",
    "vizutils.addViewerBox(viz, 'world/box', .01, 1.45, .01, [1., .2, 1, 1])\n",
    "vizutils.applyViewerConfiguration(viz, 'world/box', [0, -0, .01, 1, 0, 0, 0])\n",
    "\n",
    "vizutils.addViewerBox(viz, 'world/floor', 12, 12, .1, [.8, .8, .8, .41])\n",
    "vizutils.applyViewerConfiguration(viz, 'world/floor', [0, 0, -.01, 1, 0, 0, 0])\n"
   ]
  },
  {
   "cell_type": "markdown",
   "metadata": {},
   "source": [
    "## RRT*\n"
   ]
  },
  {
   "cell_type": "code",
   "execution_count": 30,
   "metadata": {},
   "outputs": [],
   "source": [
    "#constants\n",
    "XDIM = 640\n",
    "YDIM = 480\n",
    "WINSIZE = [XDIM, YDIM]\n",
    "EPSILON = 7.0\n",
    "NUMNODES = 5000\n",
    "RADIUS=15"
   ]
  },
  {
   "cell_type": "markdown",
   "metadata": {},
   "source": [
    "### Utility Functions"
   ]
  },
  {
   "cell_type": "code",
   "execution_count": 34,
   "metadata": {},
   "outputs": [],
   "source": [
    "def dist(p1,p2):\n",
    "    return sqrt((p1[0]-p2[0])*(p1[0]-p2[0])+(p1[1]-p2[1])*(p1[1]-p2[1]\n",
    "))\n",
    "\n",
    "\n",
    "def step_from_to(p1,p2):\n",
    "    if dist(p1,p2) < EPSILON:\n",
    "        return p2\n",
    "    else:\n",
    "        theta = atan2(p2[1]-p1[1],p2[0]-p1[0])\n",
    "        return p1[0] + EPSILON*cos(theta), p1[1] + EPSILON*sin(theta)\n",
    "\n",
    "\n",
    "def chooseParent(nn,newnode,nodes):\n",
    "     for p in nodes:\n",
    "        if dist([p.x,p.y],[newnode.x,newnode.y]) <RADIUS and p.cost+dist([p.x,p.y],[newnode.x,newnode.y]) < nn.cost+dist([nn.x,nn.y],[newnode.x,newnode.y]):\n",
    "            nn = p\n",
    "        newnode.cost=nn.cost+dist([nn.x,nn.y],[newnode.x,newnode.y])\n",
    "        newnode.parent=nn\n",
    "        return newnode,nn\n",
    "\n"
   ]
  },
  {
   "cell_type": "code",
   "execution_count": 36,
   "metadata": {},
   "outputs": [],
   "source": [
    "def reWire(nodes,newnode,pygame,screen):\n",
    "    white = 255, 240, 200\n",
    "    black = 20, 20, 40\n",
    "    for i in range(len(nodes)):\n",
    "        p = nodes[i]\n",
    "        if p!=newnode.parent and dist([p.x,p.y],[newnode.x,newnode.y]) <RADIUS and newnode.cost+dist([p.x,p.y],[newnode.x,newnode.y]) < p.cost:\n",
    "            #pygame.draw.line(screen,white,[p.x,p.y],[p.parent.x,p.parent.y])  \n",
    "            p.parent = newnode\n",
    "            p.cost=newnode.cost+dist([p.x,p.y],[newnode.x,newnode.y]) \n",
    "            nodes[i]=p  \n",
    "              \n",
    "            ## DRAW! pygame.draw.line(screen,black,[p.x,p.y],[newnode.x,newnode.y])                    \n",
    "    return nodes"
   ]
  },
  {
   "cell_type": "code",
   "execution_count": 37,
   "metadata": {},
   "outputs": [],
   "source": [
    "def drawSolutionPath(start,goal,nodes,pygame,screen):\n",
    "    pink = 200, 20, 240\n",
    "    nn = nodes[0]\n",
    "    for p in nodes:\n",
    "        if dist([p.x,p.y],[goal.x,goal.y]) < dist([nn.x,nn.y],[goal.x,goal.y]):\n",
    "            nn = p\n",
    "    while nn!=start:\n",
    "        #pygame.draw.line(screen,pink,[nn.x,nn.y],[nn.parent.x,nn.parent.y],5)  \n",
    "        nn=nn.parent"
   ]
  },
  {
   "cell_type": "code",
   "execution_count": null,
   "metadata": {},
   "outputs": [],
   "source": []
  },
  {
   "cell_type": "code",
   "execution_count": 38,
   "metadata": {},
   "outputs": [],
   "source": [
    "class Node:\n",
    "    x = 0\n",
    "    y = 0\n",
    "    cost=0  \n",
    "    parent=None\n",
    "    def __init__(self,xcoord, ycoord):\n",
    "        self.x = xcoord\n",
    "        self.y = ycoord"
   ]
  },
  {
   "cell_type": "code",
   "execution_count": 41,
   "metadata": {},
   "outputs": [
    {
     "ename": "IndentationError",
     "evalue": "expected an indented block (<ipython-input-41-c1c5e44ab96b>, line 18)",
     "output_type": "error",
     "traceback": [
      "\u001b[0;36m  File \u001b[0;32m\"<ipython-input-41-c1c5e44ab96b>\"\u001b[0;36m, line \u001b[0;32m18\u001b[0m\n\u001b[0;31m    rand = Node(random.random()*XDIM, random.random()*YDIM)\u001b[0m\n\u001b[0m       ^\u001b[0m\n\u001b[0;31mIndentationError\u001b[0m\u001b[0;31m:\u001b[0m expected an indented block\n"
     ]
    }
   ],
   "source": [
    "def main():\n",
    "    #initialize and prepare screen\n",
    "    #pygame.init()\n",
    "    #screen = pygame.display.set_mode(WINSIZE)\n",
    "    #pygame.display.set_caption('RRTstar')\n",
    "    white = 255, 240, 200\n",
    "    black = 20, 20, 40\n",
    "    #screen.fill(white)\n",
    "\n",
    "    nodes = []\n",
    "    \n",
    "    #nodes.append(Node(XDIM/2.0,YDIM/2.0)) # Start in the center\n",
    "    nodes.append(Node(0.0,0.0)) # Start in the corner\n",
    "    start=nodes[0]\n",
    "    goal=Node(630.0,470.0)\n",
    "    \n",
    "    for i in range(NUMNODES):\n",
    "        rand = Node(random.random()*XDIM, random.random()*YDIM)\n",
    "        nn = nodes[0]\n",
    "        for p in nodes:\n",
    "            if dist([p.x,p.y],[rand.x,rand.y]) < dist([nn.x,nn.y],[rand.x,rand.y]):\n",
    "                nn = p\n",
    "        interpolatedNode= step_from_to([nn.x,nn.y],[rand.x,rand.y])\n",
    "    \n",
    "    newnode = Node(interpolatedNode[0],interpolatedNode[1])\n",
    "    [newnode,nn]=chooseParent(nn,newnode,nodes);\n",
    "       \n",
    "    nodes.append(newnode)\n",
    "    pygame.draw.line(screen,black,[nn.x,nn.y],[newnode.x,newnode.y])\n",
    "        nodes=reWire(nodes,newnode,pygame,screen)\n",
    "        pygame.display.update()\n",
    "        #print i, \"    \", nodes\n",
    "\n",
    "        for e in pygame.event.get():\n",
    "            if e.type == QUIT or (e.type == KEYUP and e.key == K_ESCAPE):\n",
    "                sys.exit(\"Leaving because you requested it.\")\n",
    "                \n",
    "    drawSolutionPath(start,goal,nodes,pygame,screen)\n",
    "    pygame.display.update()\n",
    "# if python says run, then we should run"
   ]
  },
  {
   "cell_type": "code",
   "execution_count": null,
   "metadata": {},
   "outputs": [],
   "source": []
  }
 ],
 "metadata": {
  "kernelspec": {
   "display_name": "Python 3",
   "language": "python",
   "name": "python3"
  },
  "language_info": {
   "codemirror_mode": {
    "name": "ipython",
    "version": 3
   },
   "file_extension": ".py",
   "mimetype": "text/x-python",
   "name": "python",
   "nbconvert_exporter": "python",
   "pygments_lexer": "ipython3",
   "version": "3.6.9"
  }
 },
 "nbformat": 4,
 "nbformat_minor": 4
}
