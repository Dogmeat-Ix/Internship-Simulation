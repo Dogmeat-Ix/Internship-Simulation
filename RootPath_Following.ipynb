{
 "cells": [
  {
   "cell_type": "code",
   "execution_count": 24,
   "metadata": {},
   "outputs": [],
   "source": [
    "import pinocchio as pin\n",
    "from pinocchio.utils import *\n",
    "\n",
    "import hppfcl\n",
    "\n",
    "import example_robot_data as robex\n",
    "import numpy as np\n",
    "from numpy.linalg import inv, pinv, eig, norm, svd, det\n",
    "from scipy.optimize import fmin_bfgs\n",
    "import time\n",
    "\n",
    "import vizutils\n",
    "import random\n",
    "import math\n",
    "\n",
    "import H_RRT as rrt\n",
    "import H_PathTraversal as pt\n",
    "import H_Utils as ut\n",
    "\n",
    "\n"
   ]
  },
  {
   "cell_type": "code",
   "execution_count": 2,
   "metadata": {},
   "outputs": [
    {
     "name": "stdout",
     "output_type": "stream",
     "text": [
      "You can open the visualizer by visiting the following URL:\n",
      "http://127.0.0.1:7000/static/\n"
     ]
    }
   ],
   "source": [
    "robot = robex.loadSolo()\n",
    "\n",
    "rmodel = robot.model\n",
    "rdata = rmodel.createData()\n",
    "\n",
    "rcollision_model = robot.collision_model\n",
    "rcollision_data  = rcollision_model.createData()\n",
    "\n",
    "Viewer = pin.visualize.MeshcatVisualizer\n",
    "\n",
    "viz = Viewer(robot.model, rcollision_model, robot.visual_model)\n",
    "viz.initViewer(loadModel=True)\n",
    "\n"
   ]
  },
  {
   "cell_type": "code",
   "execution_count": 3,
   "metadata": {
    "scrolled": true
   },
   "outputs": [
    {
     "data": {
      "text/html": [
       "\n",
       "<div style=\"height: 400px; width: 600px; overflow-x: auto; overflow-y: hidden; resize: both\">\n",
       "<iframe src=\"http://127.0.0.1:7000/static/\" style=\"width: 100%; height: 100%; border: none\"></iframe>\n",
       "</div>\n"
      ],
      "text/plain": [
       "<IPython.core.display.HTML object>"
      ]
     },
     "execution_count": 3,
     "metadata": {},
     "output_type": "execute_result"
    }
   ],
   "source": [
    "hasattr(viz.viewer, 'jupyter_cell') and viz.viewer.jupyter_cell()\n"
   ]
  },
  {
   "cell_type": "markdown",
   "metadata": {},
   "source": [
    "# --- ENVIRONMENT DEFINITION ----------------------------------------"
   ]
  },
  {
   "cell_type": "code",
   "execution_count": 4,
   "metadata": {},
   "outputs": [],
   "source": [
    "viz.display(robot.q0)\n"
   ]
  },
  {
   "cell_type": "code",
   "execution_count": 5,
   "metadata": {},
   "outputs": [],
   "source": [
    "# Load collision geometries\n"
   ]
  },
  {
   "cell_type": "code",
   "execution_count": 6,
   "metadata": {},
   "outputs": [],
   "source": [
    "\n",
    "\n",
    "'''  \n",
    "deg = 1.76398 / 2\n",
    "quat = [math.cos(deg),math.sin(deg),0,0]\n",
    "quat = np.array(quat,np.float64)\n",
    "\n",
    "print(quat)\n",
    "\n",
    "\n",
    "\n",
    "d = norm(quat)\n",
    "quat = quat/d\n",
    "print(quat)\n",
    "\n",
    "xyzq = np.array([3, 3, .2])\n",
    "\n",
    "\n",
    "xyzq = np.concatenate([xyzq,quat])\n",
    "print(xyzq)\n",
    "\n",
    "''' \n",
    "\n",
    "vizutils.addViewerBox(viz, 'world/floor', 12, 12, .1, [.8, .8, .8, .41])\n",
    "vizutils.applyViewerConfiguration(viz, 'world/floor', [0, 0, -.01, 1, 0, 0, 0])\n",
    "\n"
   ]
  },
  {
   "cell_type": "code",
   "execution_count": 7,
   "metadata": {},
   "outputs": [],
   "source": [
    "def XYZtoQuat(x,y,angle):\n",
    "    \n",
    "    angle = angle / 2\n",
    "    quat = [math.cos(angle),math.sin(angle),0,0]\n",
    "    quat = np.array(quat,np.float64)\n",
    "    quat = quat/norm(quat)\n",
    "    \n",
    "    q = np.array([x, y, .2])\n",
    "    q = np.concatenate([q,quat])    \n",
    "    return q\n",
    "    "
   ]
  },
  {
   "cell_type": "code",
   "execution_count": 69,
   "metadata": {},
   "outputs": [
    {
     "name": "stdout",
     "output_type": "stream",
     "text": [
      "[1.6 4.  0.2 1.  0.  0.  0. ]\n"
     ]
    },
    {
     "ename": "AttributeError",
     "evalue": "module 'hppfcl' has no attribute 'CollisionObject'",
     "output_type": "error",
     "traceback": [
      "\u001b[0;31m---------------------------------------------------------------------------\u001b[0m",
      "\u001b[0;31mAttributeError\u001b[0m                            Traceback (most recent call last)",
      "\u001b[0;32m<ipython-input-69-b17c585d9ae7>\u001b[0m in \u001b[0;36m<module>\u001b[0;34m\u001b[0m\n\u001b[1;32m     27\u001b[0m \u001b[0maObs\u001b[0m \u001b[0;34m=\u001b[0m \u001b[0;36m0\u001b[0m                        \u001b[0;31m#angle in z\u001b[0m\u001b[0;34m\u001b[0m\u001b[0;34m\u001b[0m\u001b[0m\n\u001b[1;32m     28\u001b[0m \u001b[0mqObs\u001b[0m \u001b[0;34m=\u001b[0m \u001b[0mXYZtoQuat\u001b[0m\u001b[0;34m(\u001b[0m\u001b[0;36m1.6\u001b[0m\u001b[0;34m,\u001b[0m \u001b[0;36m4\u001b[0m\u001b[0;34m,\u001b[0m\u001b[0maObs\u001b[0m\u001b[0;34m)\u001b[0m     \u001b[0;31m#position x,y\u001b[0m\u001b[0;34m\u001b[0m\u001b[0;34m\u001b[0m\u001b[0m\n\u001b[0;32m---> 29\u001b[0;31m \u001b[0mobs\u001b[0m  \u001b[0;34m=\u001b[0m \u001b[0mObstacle\u001b[0m\u001b[0;34m(\u001b[0m\u001b[0;34m'box1'\u001b[0m\u001b[0;34m,\u001b[0m\u001b[0mqObs\u001b[0m\u001b[0;34m,\u001b[0m\u001b[0;36m1\u001b[0m\u001b[0;34m,\u001b[0m \u001b[0;36m.5\u001b[0m\u001b[0;34m,\u001b[0m \u001b[0;36m.4\u001b[0m\u001b[0;34m,\u001b[0m\u001b[0maObs\u001b[0m\u001b[0;34m)\u001b[0m\u001b[0;34m\u001b[0m\u001b[0;34m\u001b[0m\u001b[0m\n\u001b[0m\u001b[1;32m     30\u001b[0m \u001b[0mcObs\u001b[0m\u001b[0;34m.\u001b[0m\u001b[0mappend\u001b[0m\u001b[0;34m(\u001b[0m\u001b[0mobs\u001b[0m\u001b[0;34m)\u001b[0m\u001b[0;34m\u001b[0m\u001b[0;34m\u001b[0m\u001b[0m\n\u001b[1;32m     31\u001b[0m \u001b[0;34m\u001b[0m\u001b[0m\n",
      "\u001b[0;32m<ipython-input-69-b17c585d9ae7>\u001b[0m in \u001b[0;36m__init__\u001b[0;34m(self, name, xyzquat, sizex, sizey, sizez, angle)\u001b[0m\n\u001b[1;32m     17\u001b[0m         \u001b[0;31m#create colision object:\u001b[0m\u001b[0;34m\u001b[0m\u001b[0;34m\u001b[0m\u001b[0;34m\u001b[0m\u001b[0m\n\u001b[1;32m     18\u001b[0m         \u001b[0mshape\u001b[0m \u001b[0;34m=\u001b[0m \u001b[0mhppfcl\u001b[0m\u001b[0;34m.\u001b[0m\u001b[0mBox\u001b[0m\u001b[0;34m(\u001b[0m\u001b[0;36m1\u001b[0m\u001b[0;34m,\u001b[0m \u001b[0;36m1\u001b[0m\u001b[0;34m,\u001b[0m \u001b[0;36m1\u001b[0m\u001b[0;34m)\u001b[0m\u001b[0;34m\u001b[0m\u001b[0;34m\u001b[0m\u001b[0m\n\u001b[0;32m---> 19\u001b[0;31m         \u001b[0mself\u001b[0m\u001b[0;34m.\u001b[0m\u001b[0mgeom\u001b[0m  \u001b[0;34m=\u001b[0m \u001b[0mhppfcl\u001b[0m\u001b[0;34m.\u001b[0m\u001b[0mCollisionObject\u001b[0m\u001b[0;34m(\u001b[0m\u001b[0mself\u001b[0m\u001b[0;34m.\u001b[0m\u001b[0mname\u001b[0m\u001b[0;34m,\u001b[0m \u001b[0;36m0\u001b[0m\u001b[0;34m,\u001b[0m\u001b[0mshape\u001b[0m\u001b[0;34m,\u001b[0m \u001b[0mself\u001b[0m\u001b[0;34m.\u001b[0m\u001b[0mMobs\u001b[0m\u001b[0;34m)\u001b[0m\u001b[0;34m\u001b[0m\u001b[0;34m\u001b[0m\u001b[0m\n\u001b[0m\u001b[1;32m     20\u001b[0m         \u001b[0mprint\u001b[0m\u001b[0;34m(\u001b[0m\u001b[0mself\u001b[0m\u001b[0;34m.\u001b[0m\u001b[0mgeom\u001b[0m\u001b[0;34m)\u001b[0m\u001b[0;34m\u001b[0m\u001b[0;34m\u001b[0m\u001b[0m\n\u001b[1;32m     21\u001b[0m \u001b[0;34m\u001b[0m\u001b[0m\n",
      "\u001b[0;31mAttributeError\u001b[0m: module 'hppfcl' has no attribute 'CollisionObject'"
     ]
    }
   ],
   "source": [
    "#def angleSE3(x, y, z, axis, angle):\n",
    "\n",
    "class Obstacle:\n",
    "    def __init__(self,name,xyzquat,sizex, sizey, sizez, angle=None):\n",
    "        self.name = 'world/obs/' + str(name)\n",
    "        self.xyzquat = xyzquat\n",
    "        self.sizex = sizex\n",
    "        self.sizey = sizey\n",
    "        self.sizez = sizez\n",
    "        self.angle = angle if angle is not None else 0\n",
    "        self.Mobs  = ut.angleSE3(xyzquat[0],xyzquat[1],xyzquat[2],[0,0,1],self.angle)\n",
    "        print(self.xyzquat)\n",
    "        \n",
    "        vizutils.addViewerBox(viz, self.name, sizex, sizey, sizez, [1., 1, .2, 1])\n",
    "        vizutils.applyViewerConfiguration(viz, self.name, self.xyzquat)\n",
    "        \n",
    "        #create colision object:\n",
    "        shape = hppfcl.Box(1, 1, 1)\n",
    "        self.geom  = hppfcl.CollisionObject(self.name, 0,shape, self.Mobs)\n",
    "        print(self.geom)\n",
    "        \n",
    "        \n",
    "        \n",
    "        \n",
    "cObs = []\n",
    "\n",
    "aObs = 0                        #angle in z\n",
    "qObs = XYZtoQuat(1.6, 4,aObs)     #position x,y\n",
    "obs  = Obstacle('box1',qObs,1, .5, .4,aObs)\n",
    "cObs.append(obs)\n",
    "\n",
    "\n",
    "aObs = 0.5\n",
    "qObs = XYZtoQuat(2.3, 1.3 ,aObs)\n",
    "obs  = Obstacle('box2',qObs,.5, 1, .4,aObs)\n",
    "cObs.append(obs)\n",
    "\n",
    "aObs = 0.7\n",
    "qObs = XYZtoQuat(4, 3,aObs)\n",
    "obs  = Obstacle('box3',qObs,.7, .7, .4,aObs)\n",
    "cObs.append(obs)\n",
    "\n",
    "\n",
    "print(hppfcl.distance(cObs[0].geom,cObs[1].geom))"
   ]
  },
  {
   "cell_type": "code",
   "execution_count": 46,
   "metadata": {},
   "outputs": [
    {
     "name": "stdout",
     "output_type": "stream",
     "text": [
      "[0.    0.    0.235 0.    0.    0.    1.   ]\n",
      "  R =\n",
      "1 0 0\n",
      "0 1 0\n",
      "0 0 1\n",
      "  p =     0     0 0.235\n",
      "\n"
     ]
    }
   ],
   "source": [
    "class RootBox:\n",
    "    def __init__(self,q):\n",
    "        self.qBox = q.copy()[:7]\n",
    "        print(self.qBox)\n",
    "        self.xSize = .43\n",
    "        self.ySize = .26\n",
    "        self.zSize = .15\n",
    "        vizutils.applyViewerConfiguration(viz, 'world/root', self.qBox)\n",
    "        vizutils.addViewerBox(viz, 'world/root', self.xSize, self.ySize, self.zSize, [1., .2, .2, .5])\n",
    "        #create initial colision object (probably useless)\n",
    "        \n",
    "        self.angle = 0\n",
    "        self.Mobs  = ut.angleSE3(self.qBox[0],self.qBox[1],self.qBox[2],[0,0,1],0)\n",
    "        print(self.Mobs)\n",
    "\n",
    "        \n",
    "    def alpha(self,alph):\n",
    "        self.alph = alph + 0.0\n",
    "        vizutils.addViewerBox(viz, 'world/root', .43, .26, .15, [1., .2, .2, alph])\n",
    "    \n",
    "    def move(self, q):\n",
    "        self.qBox  = q.copy()[:7]\n",
    "        vizutils.applyViewerConfiguration(viz, 'world/root', self.qBox)\n",
    "\n",
    "    def isValidPosition(self,XY,angle,cObs):\n",
    "        qCheck = XYZtoQuat(XY[0],XY[1],angle)\n",
    "        vizutils.applyViewerConfiguration(viz, 'world/root', qCheck)\n",
    "        \n",
    "        time.sleep(0.1)\n",
    "        #for obs in cObs:\n",
    "            ##check collision ;D    \n",
    "            \n",
    "        vizutils.applyViewerConfiguration(viz, 'world/root', self.qBox)    \n",
    "        return True\n",
    "    \n",
    "    \n",
    "    \n",
    "    \n",
    "robotReach = RootBox(robot.q0)\n",
    "robotReach.alpha(0.5)\n"
   ]
  },
  {
   "cell_type": "markdown",
   "metadata": {},
   "source": [
    "## RRT*\n"
   ]
  },
  {
   "cell_type": "code",
   "execution_count": null,
   "metadata": {},
   "outputs": [],
   "source": [
    "#constants\n",
    "XDIM = 5\n",
    "YDIM = 5\n",
    "WINSIZE = [XDIM, YDIM]\n",
    "EPSILON = 0.3\n",
    "NUMNODES = 1000\n",
    "RADIUS=1.3"
   ]
  },
  {
   "cell_type": "markdown",
   "metadata": {},
   "source": [
    "## Start Here:"
   ]
  },
  {
   "cell_type": "code",
   "execution_count": null,
   "metadata": {
    "scrolled": true
   },
   "outputs": [],
   "source": [
    "#setup run:\n",
    "BUFFER_WIDTH = .26 / 2\n",
    "OPT_RADIUS = 0.3\n",
    "\n",
    "qguess = robot.q0.copy()\n",
    "viz.display(qguess)\n",
    "\n",
    "print(qguess[:2])\n",
    "viz.viewer['world/nodes'].delete() #Deletes all figures in /dir\n"
   ]
  },
  {
   "cell_type": "code",
   "execution_count": null,
   "metadata": {},
   "outputs": [],
   "source": [
    "\n",
    "\n",
    "goalXY     =[random.random()*XDIM, random.random()*YDIM]\n",
    "inObstacle = rrt.checkCobs(goalXY,cObs,BUFFER_WIDTH)\n",
    "\n",
    "if not inObstacle[0]: \n",
    "    vizutils.addViewerSphere(viz, 'world/nodes/end', .04, [.2, 1, .6, 1])\n",
    "    vizutils.applyViewerConfiguration(viz, 'world/nodes/end', [goalXY[0],goalXY[1],.2, 1, 0, 0, 0])  \n",
    "    \n"
   ]
  },
  {
   "cell_type": "code",
   "execution_count": null,
   "metadata": {},
   "outputs": [],
   "source": [
    "\n",
    "print(\"-searching\")\n",
    "nodes,path = rrt.RRT(qguess[:2],goalXY,BUFFER_WIDTH,cObs,robotReach,viz)\n",
    "\n",
    "print(\"- path nodes: \" + str(len(path)))\n"
   ]
  },
  {
   "cell_type": "code",
   "execution_count": null,
   "metadata": {},
   "outputs": [],
   "source": [
    "\n",
    "CLUSTER_RADIUS = .3\n",
    "clustered_path = rrt.clusterPath(path,CLUSTER_RADIUS,viz)\n",
    "print(len(clustered_path))"
   ]
  },
  {
   "cell_type": "code",
   "execution_count": null,
   "metadata": {},
   "outputs": [],
   "source": [
    "#now we check collision along the subpaths, and correct any corner clipping \n",
    "root_path = []\n",
    "\n",
    "\n",
    "root_path = rrt.correctPath(clustered_path,cObs,BUFFER_WIDTH)\n"
   ]
  },
  {
   "cell_type": "markdown",
   "metadata": {},
   "source": [
    "## PATH FOLLOWING"
   ]
  },
  {
   "cell_type": "markdown",
   "metadata": {},
   "source": [
    "#print(XYZQUATToSe3(qguess[:7]))\n",
    "    quat = pin.Quaternion.Identity()\n",
    "    quat[0] = qguess[3]\n",
    "    quat[1] = qguess[4]\n",
    "    quat[2] = qguess[5]\n",
    "    quat[3] = qguess[6]\n",
    "    \n",
    "    \n",
    "    print(quat)\n",
    "\n",
    "    Mq = pin.SE3(quat,qguess[:3])\n",
    "    \n",
    "    print(Mq)"
   ]
  },
  {
   "cell_type": "code",
   "execution_count": null,
   "metadata": {},
   "outputs": [],
   "source": [
    "#cost = Cost3d(rmodel, rdata, frameIndex = 1, ptarget= robot.q0[:3], viz=viz)\n",
    "#qguess = robot.q0.copy()\n",
    "\n",
    "root_path.reverse()\n",
    "\n",
    "for obj in root_path:\n",
    "    segments = []\n",
    "    segments = pt.genSegments(qguess, obj.position(),viz)\n",
    "    qguess = pt.travelSegments(segments,qguess,rmodel, rdata,robot,robotReach,viz)\n",
    "    qguess = pin.normalize(rmodel, qguess)  # Now, it is normalize\n",
    "\n",
    "    obj.remove()"
   ]
  },
  {
   "cell_type": "code",
   "execution_count": null,
   "metadata": {},
   "outputs": [],
   "source": []
  },
  {
   "cell_type": "code",
   "execution_count": null,
   "metadata": {},
   "outputs": [],
   "source": [
    "Deprecated:"
   ]
  },
  {
   "cell_type": "code",
   "execution_count": null,
   "metadata": {},
   "outputs": [],
   "source": [
    "\n",
    "        #axis = np.array([math.cos(deg),math.sin(deg),0,0],np.float64)\n",
    "        #axis /= norm(axis)\n",
    "        \n",
    "        #quat = pin.Quaternion.Identity()\n",
    "        #quat[0] = axis[2]\n",
    "        #quat[1] = axis[3]\n",
    "        #quat[2] = axis[1]\n",
    "        #quat[3] = axis[0]\n",
    "        #print(quat)\n",
    "        \n",
    "        ##MtargetEnd = pin.SE3(quat,np.array(seg.endq[:3]))\n",
    "        \n",
    "se = ut.angleSE3(0, 0, .23, [0,0,1], 1.76398)\n",
    "\n",
    "print(se)\n",
    "\n",
    "print(se.rotation)"
   ]
  },
  {
   "cell_type": "code",
   "execution_count": null,
   "metadata": {},
   "outputs": [],
   "source": []
  },
  {
   "cell_type": "code",
   "execution_count": null,
   "metadata": {},
   "outputs": [],
   "source": []
  },
  {
   "cell_type": "code",
   "execution_count": null,
   "metadata": {},
   "outputs": [],
   "source": []
  },
  {
   "cell_type": "code",
   "execution_count": null,
   "metadata": {},
   "outputs": [],
   "source": []
  },
  {
   "cell_type": "code",
   "execution_count": null,
   "metadata": {},
   "outputs": [],
   "source": []
  },
  {
   "cell_type": "code",
   "execution_count": null,
   "metadata": {},
   "outputs": [],
   "source": []
  }
 ],
 "metadata": {
  "kernelspec": {
   "display_name": "Python 3",
   "language": "python",
   "name": "python3"
  },
  "language_info": {
   "codemirror_mode": {
    "name": "ipython",
    "version": 3
   },
   "file_extension": ".py",
   "mimetype": "text/x-python",
   "name": "python",
   "nbconvert_exporter": "python",
   "pygments_lexer": "ipython3",
   "version": "3.6.9"
  }
 },
 "nbformat": 4,
 "nbformat_minor": 4
}
