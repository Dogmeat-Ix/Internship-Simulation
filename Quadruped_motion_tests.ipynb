{
 "cells": [
  {
   "cell_type": "code",
   "execution_count": 1,
   "metadata": {},
   "outputs": [],
   "source": [
    "import pinocchio as pin\n",
    "from pinocchio.utils import *\n",
    "\n",
    "import example_robot_data as robex\n",
    "import numpy as np\n",
    "from numpy.linalg import inv, pinv, eig, norm, svd, det\n",
    "from scipy.optimize import fmin_bfgs\n",
    "import time\n",
    "import copy\n",
    "import hppfcl\n",
    "import vizutils\n",
    "\n"
   ]
  },
  {
   "cell_type": "code",
   "execution_count": 2,
   "metadata": {},
   "outputs": [
    {
     "name": "stdout",
     "output_type": "stream",
     "text": [
      "You can open the visualizer by visiting the following URL:\n",
      "http://127.0.0.1:7000/static/\n"
     ]
    }
   ],
   "source": [
    "robot = robex.loadSolo()\n",
    "\n",
    "#Viewer = pin.visualize.GepettoVisualizer\n",
    "Viewer = pin.visualize.MeshcatVisualizer\n",
    "\n",
    "viz = Viewer(robot.model, robot.collision_model, robot.visual_model)\n",
    "viz.initViewer(loadModel=True)\n"
   ]
  },
  {
   "cell_type": "code",
   "execution_count": 3,
   "metadata": {},
   "outputs": [
    {
     "data": {
      "text/html": [
       "\n",
       "<div style=\"height: 400px; width: 600px; overflow-x: auto; overflow-y: hidden; resize: both\">\n",
       "<iframe src=\"http://127.0.0.1:7000/static/\" style=\"width: 100%; height: 100%; border: none\"></iframe>\n",
       "</div>\n"
      ],
      "text/plain": [
       "<IPython.core.display.HTML object>"
      ]
     },
     "execution_count": 3,
     "metadata": {},
     "output_type": "execute_result"
    }
   ],
   "source": [
    "hasattr(viz.viewer, 'jupyter_cell') and viz.viewer.jupyter_cell()\n"
   ]
  },
  {
   "cell_type": "code",
   "execution_count": 4,
   "metadata": {},
   "outputs": [],
   "source": [
    "viz.display(robot.q0)\n",
    "xi = robot.q0[:3]\n",
    "\n",
    "vizutils.addViewerBox(viz, 'world/box', .2, .5, .4, [1., 1, .2, 1])\n",
    "vizutils.applyViewerConfiguration(viz, 'world/box', [1, -.2, .2, 1, 0, 0, 0])\n",
    "\n",
    "xf = [1.7, .2, .2, 1, 0, 0, 0]  # x, y, z, quaternion\n",
    "vizutils.addViewerSphere(viz, 'world/end', .04, [.2, .2, 1., .5])\n",
    "vizutils.applyViewerConfiguration(viz, 'world/end', xf)\n",
    "\n",
    "xstep = [-.05, .1, 0, 1, 0, 0, 0]\n",
    "vizutils.addViewerSphere(viz, 'world/ball', .02, [.2, 1, .1, .5])\n",
    "vizutils.applyViewerConfiguration(viz, 'world/ball', xstep)"
   ]
  },
  {
   "cell_type": "code",
   "execution_count": 22,
   "metadata": {},
   "outputs": [],
   "source": [
    "class RootBox:\n",
    "    def __init__(self):\n",
    "        vizutils.addViewerBox(viz, 'world/root', .43, .26, .15, [1., .2, .2, .5])\n",
    "        \n",
    "    def alpha(self,alph):\n",
    "        self.alph = alph + 0.0\n",
    "        vizutils.addViewerBox(viz, 'world/root', .43, .26, .15, [1., .2, .2, alph])\n",
    "\n",
    "        \n",
    "    def move(self, q):\n",
    "        xRoot = q.copy()[:7]\n",
    "        vizutils.applyViewerConfiguration(viz, 'world/root', xRoot)\n",
    "        \n",
    "rootBox = RootBox()"
   ]
  },
  {
   "cell_type": "code",
   "execution_count": 25,
   "metadata": {},
   "outputs": [],
   "source": [
    "rootBox.alpha(0)"
   ]
  },
  {
   "cell_type": "code",
   "execution_count": 7,
   "metadata": {},
   "outputs": [
    {
     "name": "stdout",
     "output_type": "stream",
     "text": [
      "universe\n",
      "root_joint\n",
      "base_link\n",
      "FL_HFE\n",
      "FL_UPPER_LEG\n",
      "FL_KFE\n",
      "FL_LOWER_LEG\n",
      "FL_ANKLE\n",
      "FL_FOOT\n",
      "FR_HFE\n",
      "FR_UPPER_LEG\n",
      "FR_KFE\n",
      "FR_LOWER_LEG\n",
      "FR_ANKLE\n",
      "FR_FOOT\n",
      "HL_HFE\n",
      "HL_UPPER_LEG\n",
      "HL_KFE\n",
      "HL_LOWER_LEG\n",
      "HL_ANKLE\n",
      "HL_FOOT\n",
      "HR_HFE\n",
      "HR_UPPER_LEG\n",
      "HR_KFE\n",
      "HR_LOWER_LEG\n",
      "HR_ANKLE\n",
      "HR_FOOT\n"
     ]
    }
   ],
   "source": [
    "rmodel = robot.model\n",
    "rdata = rmodel.createData()\n",
    "\n",
    "for f in robot.model.frames:\n",
    "    print(f.name)"
   ]
  },
  {
   "cell_type": "code",
   "execution_count": 8,
   "metadata": {},
   "outputs": [
    {
     "name": "stdout",
     "output_type": "stream",
     "text": [
      "20\n"
     ]
    }
   ],
   "source": [
    "# Get index of end effector\n",
    "idx = rmodel.getFrameId('HL_FOOT')\n",
    "print(idx)\n",
    "\n"
   ]
  },
  {
   "cell_type": "markdown",
   "metadata": {},
   "source": [
    "### GHOST-ROBODOG:"
   ]
  },
  {
   "cell_type": "code",
   "execution_count": 30,
   "metadata": {},
   "outputs": [],
   "source": [
    "class Cost3d:\n",
    "    def __init__(self, rmodel, rdata, frameIndex=None, ptarget=None, viz=None):\n",
    "        self.rmodel = rmodel\n",
    "        self.rdata = rdata\n",
    "        self.ptarget = ptarget if ptarget is not None else  np.array([0.5, 0.1, 0.27])\n",
    "        self.frameIndex = frameIndex if frameIndex is not None else robot.model.nframes - 1\n",
    "        self.viz = viz\n",
    "\n",
    "    def residual(self, q):\n",
    "        pin.framesForwardKinematics(self.rmodel, self.rdata, q)\n",
    "        M = self.rdata.oMf[self.frameIndex]\n",
    "        return M.translation - self.ptarget\n",
    "\n",
    "    def calc(self, q):\n",
    "        return sum(self.residual(q) ** 2)\n",
    "\n",
    "    # --- Callback\n",
    "    def callback(self, q):\n",
    "        if self.viz is None:\n",
    "            return\n",
    "        pin.framesForwardKinematics(self.rmodel, self.rdata, q)\n",
    "        M = self.rdata.oMf[self.frameIndex]\n",
    "        rootBox.move(q)\n",
    "        #vizutils.applyViewerConfiguration(self.viz, 'world/ball', pin.SE3ToXYZQUATtuple(M))\n",
    "        #vizutils.applyViewerConfiguration(self.viz, 'world/box', self.ptarget.tolist() + [1, 0, 0, 0])\n",
    "        self.viz.display(q)\n",
    "        time.sleep(5)"
   ]
  },
  {
   "cell_type": "code",
   "execution_count": 38,
   "metadata": {},
   "outputs": [
    {
     "name": "stdout",
     "output_type": "stream",
     "text": [
      "Optimization terminated successfully.\n",
      "         Current function value: 0.000000\n",
      "         Iterations: 2\n",
      "         Function evaluations: 51\n",
      "         Gradient evaluations: 3\n"
     ]
    }
   ],
   "source": [
    "cost = Cost3d(rmodel, rdata, frameIndex = 1, ptarget= xf[:3], viz=viz)\n",
    "qguess = robot.q0.copy()\n",
    "qopt = fmin_bfgs(cost.calc, qguess, callback=cost.callback)\n",
    "\n",
    "rootBox.move(qopt)\n",
    "viz.display(qopt)"
   ]
  },
  {
   "cell_type": "code",
   "execution_count": 37,
   "metadata": {
    "scrolled": true
   },
   "outputs": [
    {
     "name": "stdout",
     "output_type": "stream",
     "text": [
      "Optimization terminated successfully.\n",
      "         Current function value: 0.000000\n",
      "         Iterations: 0\n",
      "         Function evaluations: 17\n",
      "         Gradient evaluations: 1\n"
     ]
    }
   ],
   "source": [
    "cost = Cost3d(rmodel, rdata, frameIndex = 1, ptarget= xi, viz=viz)\n",
    "qguess = robot.q0.copy()\n",
    "qopt = fmin_bfgs(cost.calc, qguess, callback=cost.callback)\n",
    "\n",
    "rootBox.move(qopt)\n",
    "viz.display(qopt)"
   ]
  },
  {
   "cell_type": "markdown",
   "metadata": {},
   "source": [
    "### Pasito"
   ]
  },
  {
   "cell_type": "code",
   "execution_count": 19,
   "metadata": {},
   "outputs": [
    {
     "name": "stdout",
     "output_type": "stream",
     "text": [
      "Optimization terminated successfully.\n",
      "         Current function value: 0.000000\n",
      "         Iterations: 5\n",
      "         Function evaluations: 153\n",
      "         Gradient evaluations: 9\n"
     ]
    }
   ],
   "source": [
    "cost = Cost3d(rmodel, rdata, frameIndex = 20, ptarget= xstep[:3], viz=viz)\n",
    "#qguess = robot.q0.copy()\n",
    "qopt = fmin_bfgs(cost.calc, qguess, callback=cost.callback)\n",
    "viz.display(qopt)"
   ]
  },
  {
   "cell_type": "code",
   "execution_count": 13,
   "metadata": {},
   "outputs": [],
   "source": [
    "class CostPosture:\n",
    "    def __init__(self, rmodel, rdata, qref=None, viz=None):\n",
    "        # viz, rmodel and rdata are taken to respect the API but are not useful.\n",
    "        self.qref = qref if qref is not None else pin.randomConfiguration(rmodel)\n",
    "        self.removeFreeFlyer = robot.model.joints[1].nq == 7  # Don't penalize the free flyer if any.\n",
    "\n",
    "    def residual(self, q):\n",
    "        if self.removeFreeFlyer:\n",
    "            return (q - self.qref)[7:]\n",
    "        else:\n",
    "            return q - self.qref\n",
    "\n",
    "    def calc(self, q):\n",
    "        return sum(self.residual(q) ** 2)"
   ]
  },
  {
   "cell_type": "code",
   "execution_count": 14,
   "metadata": {},
   "outputs": [],
   "source": [
    "class SumOfCostFreeFlyer:\n",
    "    def __init__(self, rmodel, rdata, costs, weights):\n",
    "        self.rmodel = rmodel\n",
    "        self.costs = costs\n",
    "        self.weights = np.array(weights)\n",
    "\n",
    "    def calc(self, q):\n",
    "        q = pin.normalize(self.rmodel, q)\n",
    "        # Alternatively, add this extra term to the sum\n",
    "        extra = sum((q - pin.normalize(rmodel, q)) ** 2) * 100\n",
    "        return sum(self.weights * [cost.calc(q) for cost in self.costs])   + extra\n",
    "\n",
    "    def callback(self, q):\n",
    "        q = pin.normalize(self.rmodel, q)\n",
    "        rootBox.move(q)\n",
    "        for c in self.costs:\n",
    "            if hasattr(c, 'callback'):\n",
    "                c.callback(q)\n",
    "       \n",
    "        time.sleep(0.05)\n"
   ]
  },
  {
   "cell_type": "code",
   "execution_count": 35,
   "metadata": {},
   "outputs": [],
   "source": [
    "rootBox.alpha(0.5)"
   ]
  },
  {
   "cell_type": "code",
   "execution_count": 36,
   "metadata": {},
   "outputs": [
    {
     "name": "stdout",
     "output_type": "stream",
     "text": [
      "Optimization terminated successfully.\n",
      "         Current function value: 0.000000\n",
      "         Iterations: 1\n",
      "         Function evaluations: 51\n",
      "         Gradient evaluations: 3\n"
     ]
    }
   ],
   "source": [
    "import random\n",
    "randX = random.uniform(-4.1, 4.1)\n",
    "randY = random.uniform(-4.1, 4.1)\n",
    "\n",
    "\n",
    "\n",
    "mycost = SumOfCostFreeFlyer(rmodel, rdata,\n",
    "                            [Cost3d(rmodel, rdata, frameIndex = 1, ptarget=[randX,randY,.2], viz=viz),\n",
    "                             CostPosture(rmodel, rdata,qref = qguess )], [1, 1e-3])\n",
    "qopt = fmin_bfgs(mycost.calc, robot.q0, callback=mycost.callback)\n",
    "viz.display(qopt)"
   ]
  },
  {
   "cell_type": "code",
   "execution_count": null,
   "metadata": {},
   "outputs": [],
   "source": []
  },
  {
   "cell_type": "code",
   "execution_count": null,
   "metadata": {},
   "outputs": [],
   "source": []
  },
  {
   "cell_type": "code",
   "execution_count": null,
   "metadata": {},
   "outputs": [],
   "source": []
  }
 ],
 "metadata": {
  "kernelspec": {
   "display_name": "Python 3",
   "language": "python",
   "name": "python3"
  },
  "language_info": {
   "codemirror_mode": {
    "name": "ipython",
    "version": 3
   },
   "file_extension": ".py",
   "mimetype": "text/x-python",
   "name": "python",
   "nbconvert_exporter": "python",
   "pygments_lexer": "ipython3",
   "version": "3.6.9"
  }
 },
 "nbformat": 4,
 "nbformat_minor": 4
}
